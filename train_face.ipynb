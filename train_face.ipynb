{
 "cells": [
  {
   "cell_type": "markdown",
   "metadata": {},
   "source": [
    "# Huấn luyện mô hình nhận diện khuôn mặt\n",
    "Notebook này trình bày quá trình huấn luyện mô hình nhận diện khuôn mặt sử dụng thư viện `face_recognition`. Các bước bao gồm:\n",
    "1. Import các thư viện cần thiết\n",
    "2. Định nghĩa thư mục chứa dữ liệu khuôn mặt\n",
    "3. Khởi tạo danh sách chứa encoding và tên\n",
    "4. Mã hóa khuôn mặt từ ảnh\n",
    "5. Chia tập dữ liệu thành tập huấn luyện và tập kiểm tra\n",
    "6. Lưu mô hình đã huấn luyện\n",
    "7. Đánh giá mô hình\n",
    "8. Tạo báo cáo phân loại\n",
    "9. Vẽ ma trận nhầm lẫn"
   ]
  },
  {
   "cell_type": "markdown",
   "metadata": {},
   "source": [
    "## 1. Import các thư viện cần thiết\n",
    "Chúng ta bắt đầu bằng việc import các thư viện cần thiết cho nhận diện khuôn mặt, xử lý dữ liệu và đánh giá."
   ]
  },
  {
   "cell_type": "code",
   "execution_count": 11,
   "metadata": {},
   "outputs": [],
   "source": [
    "# 1. Import thư viện cần thiết\n",
    "import face_recognition\n",
    "import os\n",
    "import pickle\n",
    "import numpy as np\n",
    "import matplotlib.pyplot as plt\n",
    "from sklearn.model_selection import train_test_split\n",
    "from sklearn.metrics import confusion_matrix, classification_report\n",
    "import seaborn as sns\n"
   ]
  },
  {
   "cell_type": "markdown",
   "metadata": {},
   "source": [
    "## 2. Định nghĩa thư mục chứa dữ liệu khuôn mặt\n",
    "Xác định thư mục nơi lưu trữ các ảnh khuôn mặt."
   ]
  },
  {
   "cell_type": "code",
   "execution_count": 12,
   "metadata": {},
   "outputs": [],
   "source": [
    "# Định nghĩa thư mục chứa dữ liệu khuôn mặt\n",
    "data_dir = \"face_data\"\n"
   ]
  },
  {
   "cell_type": "markdown",
   "metadata": {},
   "source": [
    "## 3. Khởi tạo danh sách chứa encoding và tên\n",
    "Tạo danh sách rỗng để lưu trữ các encoding khuôn mặt và tên tương ứng."
   ]
  },
  {
   "cell_type": "code",
   "execution_count": 13,
   "metadata": {},
   "outputs": [],
   "source": [
    "\n",
    "# Khởi tạo danh sách chứa encoding và tên\n",
    "known_face_encodings = []\n",
    "known_face_names = []\n"
   ]
  },
  {
   "cell_type": "markdown",
   "metadata": {},
   "source": [
    "## 4. Mã hóa khuôn mặt từ ảnh\n",
    "Duyệt qua từng thư mục con (tên người) và từng ảnh để tạo encoding khuôn mặt."
   ]
  },
  {
   "cell_type": "code",
   "execution_count": 14,
   "metadata": {},
   "outputs": [
    {
     "name": "stdout",
     "output_type": "stream",
     "text": [
      "Số lượng khuôn mặt được mã hóa: 118\n"
     ]
    }
   ],
   "source": [
    "\n",
    "# Duyệt qua từng thư mục con (tên người)\n",
    "for person_name in os.listdir(data_dir):\n",
    "    person_dir = os.path.join(data_dir, person_name)\n",
    "    if not os.path.isdir(person_dir):\n",
    "        continue\n",
    "    \n",
    "    # Duyệt qua từng ảnh của người đó\n",
    "    for image_name in os.listdir(person_dir):\n",
    "        image_path = os.path.join(person_dir, image_name)\n",
    "        image = face_recognition.load_image_file(image_path)\n",
    "        \n",
    "        # Tạo encoding cho khuôn mặt\n",
    "        face_encodings = face_recognition.face_encodings(image)\n",
    "        if len(face_encodings) > 0:\n",
    "            known_face_encodings.append(face_encodings[0])\n",
    "            known_face_names.append(person_name)\n",
    "            \n",
    "\n",
    "print(\"Số lượng khuôn mặt được mã hóa:\", len(known_face_encodings))"
   ]
  },
  {
   "cell_type": "markdown",
   "metadata": {},
   "source": [
    "## 5. Chia tập dữ liệu thành tập huấn luyện và tập kiểm tra\n",
    "Sử dụng `train_test_split` để chia dữ liệu thành tập huấn luyện và tập kiểm tra."
   ]
  },
  {
   "cell_type": "code",
   "execution_count": 15,
   "metadata": {},
   "outputs": [],
   "source": [
    "# Chia tập dữ liệu thành train và test\n",
    "X_train, X_test, y_train, y_test = train_test_split(\n",
    "    known_face_encodings, known_face_names, test_size=0.2, random_state=42\n",
    ")"
   ]
  },
  {
   "cell_type": "markdown",
   "metadata": {},
   "source": [
    "## 6. Lưu mô hình đã huấn luyện\n",
    "Sử dụng `pickle` để lưu trữ mô hình đã huấn luyện cho lần sử dụng sau."
   ]
  },
  {
   "cell_type": "code",
   "execution_count": 16,
   "metadata": {},
   "outputs": [
    {
     "name": "stdout",
     "output_type": "stream",
     "text": [
      "Huấn luyện mô hình hoàn tất!\n"
     ]
    }
   ],
   "source": [
    "# Lưu mô hình đã huấn luyện\n",
    "data = {\"encodings\": known_face_encodings, \"names\": known_face_names}\n",
    "with open(\"face_model.pkl\", \"wb\") as f:\n",
    "    pickle.dump(data, f)\n",
    "print(\"Huấn luyện mô hình hoàn tất!\")\n"
   ]
  },
  {
   "cell_type": "markdown",
   "metadata": {},
   "source": [
    "## 7. Đánh giá mô hình\n",
    "So sánh tên dự đoán với tên thực tế để đánh giá độ chính xác của mô hình."
   ]
  },
  {
   "cell_type": "code",
   "execution_count": 21,
   "metadata": {},
   "outputs": [],
   "source": [
    "# Đánh giá mô hình\n",
    "correct_predictions = 0\n",
    "predictions = []\n",
    "for i, test_encoding in enumerate(X_test):\n",
    "    matches = face_recognition.compare_faces(X_train, test_encoding)\n",
    "    name_predictions = [y_train[j] for j in range(len(matches)) if matches[j]]\n",
    "    predicted_name = max(set(name_predictions), key=name_predictions.count) if name_predictions else \"Unknown\"\n",
    "    predictions.append(predicted_name)\n",
    "    if predicted_name == y_test[i]:\n",
    "        correct_predictions += 1"
   ]
  },
  {
   "cell_type": "code",
   "execution_count": 22,
   "metadata": {},
   "outputs": [
    {
     "name": "stdout",
     "output_type": "stream",
     "text": [
      "Độ chính xác của mô hình: 1.0\n"
     ]
    }
   ],
   "source": [
    "accuracy = correct_predictions / len(y_test) if len(y_test) > 0 else 0\n",
    "print(\"Độ chính xác của mô hình:\", accuracy)"
   ]
  },
  {
   "cell_type": "markdown",
   "metadata": {},
   "source": [
    "## 8. Tạo báo cáo phân loại\n",
    "Sử dụng `classification_report` để tạo báo cáo chi tiết về hiệu suất của mô hình."
   ]
  },
  {
   "cell_type": "code",
   "execution_count": 25,
   "metadata": {},
   "outputs": [
    {
     "name": "stdout",
     "output_type": "stream",
     "text": [
      "Báo cáo phân loại:\n",
      "              precision    recall  f1-score   support\n",
      "\n",
      "        binh       1.00      1.00      1.00         4\n",
      "         huy       1.00      1.00      1.00        20\n",
      "\n",
      "    accuracy                           1.00        24\n",
      "   macro avg       1.00      1.00      1.00        24\n",
      "weighted avg       1.00      1.00      1.00        24\n",
      "\n"
     ]
    }
   ],
   "source": [
    "# 6. Báo cáo phân loại\n",
    "print(\"Báo cáo phân loại:\")\n",
    "print(classification_report(y_test, predictions))"
   ]
  },
  {
   "cell_type": "markdown",
   "metadata": {},
   "source": [
    "## 9. Vẽ ma trận nhầm lẫn\n",
    "Trực quan hóa ma trận nhầm lẫn để hiểu rõ hơn về hiệu suất của mô hình."
   ]
  },
  {
   "cell_type": "code",
   "execution_count": 24,
   "metadata": {},
   "outputs": [
    {
     "data": {
      "image/png": "[encoded data removed]",
      "text/plain": [
       "<Figure size 800x600 with 2 Axes>"
      ]
     },
     "metadata": {},
     "output_type": "display_data"
    }
   ],
   "source": [
    "# 7. Vẽ ma trận nhầm lẫn\n",
    "cm = confusion_matrix(y_test, predictions)\n",
    "plt.figure(figsize=(8, 6))\n",
    "sns.heatmap(cm, annot=True, fmt=\"d\", cmap=\"Blues\", xticklabels=set(y_train), yticklabels=set(y_test))\n",
    "plt.xlabel(\"Predicted Label\")\n",
    "plt.ylabel(\"True Label\")\n",
    "plt.title(\"Confusion Matrix\")\n",
    "plt.show()"
   ]
  }
 ],
 "metadata": {
  "kernelspec": {
   "display_name": "Python 3",
   "language": "python",
   "name": "python3"
  },
  "language_info": {
   "codemirror_mode": {
    "name": "ipython",
    "version": 3
   },
   "file_extension": ".py",
   "mimetype": "text/x-python",
   "name": "python",
   "nbconvert_exporter": "python",
   "pygments_lexer": "ipython3",
   "version": "3.10.9"
  }
 },
 "nbformat": 4,
 "nbformat_minor": 2
}
