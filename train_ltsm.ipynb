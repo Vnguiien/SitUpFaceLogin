{
 "cells": [
  {
   "cell_type": "markdown",
   "metadata": {},
   "source": [
    "# 📊 **Tổng quan về mô hình LSTM và ứng dụng AI đếm số lần gập bụng** 🤖\n",
    "\n",
    "\n",
    "Trong notebook này, chúng ta sẽ xây dựng và huấn luyện một mô hình LSTM để phân loại dữ liệu keypoint.\n",
    "\n",
    "🌟 **Mô hình LSTM (Long Short-Term Memory)** là một loại mạng nơ-ron hồi quy (RNN) đặc biệt, có khả năng học và ghi nhớ các phụ thuộc dài hạn trong dữ liệu tuần tự. LSTM đặc biệt hữu ích trong các bài toán liên quan đến dữ liệu chuỗi thời gian, như phân tích video hoặc tín hiệu cảm biến.\n",
    "\n",
    "🎯 **Ứng dụng của LSTM** trong bài toán này là **đếm số lần gập bụng** dựa trên dữ liệu keypoint thu thập từ video . Mô hình này sẽ giúp chúng ta nhận diện và đếm chính xác các lần gập bụng trong video.\n",
    "\n",
    "📅 **Các bước chính bao gồm**:\n",
    "1. 📥 **Import các thư viện cần thiết**\n",
    "2. 📊 **Tải và kiểm tra dữ liệu**\n",
    "3. 🔀 **Chia dữ liệu thành tập huấn luyện và tập kiểm tra**\n",
    "4. 🔄 **Định dạng lại dữ liệu cho mô hình LSTM**\n",
    "5. 🏗️ **Xây dựng và huấn luyện mô hình LSTM**\n",
    "6. 📈 **Đánh giá và phân tích kết quả**\n"
   ]
  },
  {
   "cell_type": "markdown",
   "metadata": {},
   "source": [
    "### 📚 Import các thư viện cần thiết\n",
    "Chúng ta bắt đầu bằng việc import các thư viện cần thiết cho việc xử lý dữ liệu, xây dựng và huấn luyện mô hình."
   ]
  },
  {
   "cell_type": "code",
   "execution_count": 2,
   "metadata": {},
   "outputs": [],
   "source": [
    "import numpy as np\n",
    "import tensorflow as tf\n",
    "import matplotlib.pyplot as plt\n",
    "import seaborn as sns\n",
    "from tensorflow.keras.models import Sequential\n",
    "from tensorflow.keras.layers import Dense, Dropout, LSTM\n",
    "from tensorflow.keras.optimizers import Adam\n",
    "from tensorflow.keras.callbacks import EarlyStopping\n",
    "from sklearn.model_selection import train_test_split\n",
    "from sklearn.metrics import confusion_matrix, classification_report\n"
   ]
  },
  {
   "cell_type": "markdown",
   "metadata": {},
   "source": [
    "### 📥 Tải dữ liệu từ file `.npy`\n",
    "Trước tiên, chúng ta tải dữ liệu từ hai tệp:\n",
    "- `keypoints_data.npy`: chứa dữ liệu đầu vào (tọa độ keypoint)\n",
    "- `keypoints_labels.npy`: chứa nhãn tương ứng (0 hoặc 1, dùng cho bài toán phân loại nhị phân)\n",
    "\n",
    "Sau khi tải, chúng ta in kích thước dữ liệu để kiểm tra xem có đúng như mong đợi không."
   ]
  },
  {
   "cell_type": "code",
   "execution_count": 3,
   "metadata": {},
   "outputs": [],
   "source": [
    "# Định nghĩa đường dẫn dữ liệu\n",
    "data_path = \"keypoints/keypoints_data.npy\"\n",
    "labels_path = \"keypoints/keypoints_labels.npy\""
   ]
  },
  {
   "cell_type": "code",
   "execution_count": 4,
   "metadata": {},
   "outputs": [
    {
     "name": "stdout",
     "output_type": "stream",
     "text": [
      "🔄 Đang tải dữ liệu...\n",
      "✅ Dữ liệu đã tải: (30374, 66), Nhãn: (30374,)\n"
     ]
    }
   ],
   "source": [
    "import numpy as np\n",
    "\n",
    "# Tải dữ liệu\n",
    "print(\"🔄 Đang tải dữ liệu...\")\n",
    "data = np.load(data_path)\n",
    "labels = np.load(labels_path)\n",
    "print(f\"✅ Dữ liệu đã tải: {data.shape}, Nhãn: {labels.shape}\")"
   ]
  },
  {
   "cell_type": "markdown",
   "metadata": {},
   "source": [
    "### 🔍 Phân tích dữ liệu đã tải\n",
    "Dữ liệu đầu vào có kích thước (30374, 66), nghĩa là chúng ta có 30747 mẫu và mỗi mẫu có 66 đặc trưng.\n",
    "Nhãn tương ứng có kích thước (30374,), nghĩa là mỗi mẫu có một nhãn tương ứng."
   ]
  },
  {
   "cell_type": "code",
   "execution_count": 19,
   "metadata": {},
   "outputs": [
    {
     "data": {
      "image/png": "[encoded data removed]",
      "text/plain": [
       "<Figure size 600x600 with 1 Axes>"
      ]
     },
     "metadata": {},
     "output_type": "display_data"
    }
   ],
   "source": [
    "# Biểu đồ tròn (Pie Chart): Tỷ lệ giữa nhãn \"1 (Gập bụng)\" và \"0 (nằm)\"\n",
    "unique, counts = np.unique(labels, return_counts=True)\n",
    "plt.figure(figsize=(6, 6))\n",
    "plt.pie(counts, labels=[f'Gập bụng ({unique[1]})', f'Nằm ({unique[0]})'], autopct='%1.1f%%', startangle=90)\n",
    "plt.title('Tỷ lệ giữa nhãn \"1 (Gập bụng)\" và \"0 (nằm)\"')\n",
    "plt.show()\n"
   ]
  },
  {
   "cell_type": "markdown",
   "metadata": {},
   "source": [
    "### 📊 Giải thích biểu đồ:  \n",
    "\n",
    "Biểu đồ trên tiếp tục thể hiện **tỷ lệ giữa hai nhãn** trong tập dữ liệu:  \n",
    "- **Gập bụng (1):** Chiếm **44.6%** tổng số dữ liệu.  \n",
    "- **Nằm (0):** Chiếm **55.4%** tổng số dữ liệu.  \n",
    "\n",
    "🔹 **Ảnh hưởng đến mô hình:**  \n",
    "- Mô hình sẽ **ít bị thiên lệch** về một nhãn hơn.  \n",
    "- **Dự đoán công bằng hơn**, không nghiêng quá nhiều về lớp `\"Nằm\"`.  "
   ]
  },
  {
   "cell_type": "markdown",
   "metadata": {},
   "source": [
    "### ✂️ Chia tập dữ liệu\n",
    "Chúng ta chia dữ liệu thành hai phần: tập huấn luyện và tập kiểm tra với tỷ lệ 80:20."
   ]
  },
  {
   "cell_type": "code",
   "execution_count": 7,
   "metadata": {},
   "outputs": [],
   "source": [
    "# Chia tập dữ liệu thành train và test\n",
    "X_train, X_test, y_train, y_test = train_test_split(data, labels, test_size=0.2, random_state=42)"
   ]
  },
  {
   "cell_type": "markdown",
   "metadata": {},
   "source": [
    "### 🔄 Định dạng lại dữ liệu\n",
    "Dữ liệu đầu vào cần được định dạng lại để phù hợp với mô hình LSTM. Chúng ta thêm một chiều mới để dữ liệu có dạng (số mẫu, 1, số đặc trưng)."
   ]
  },
  {
   "cell_type": "code",
   "execution_count": 8,
   "metadata": {},
   "outputs": [],
   "source": [
    "# Định dạng dữ liệu cho mô hình LSTM\n",
    "X_train = X_train.reshape((X_train.shape[0], 1, X_train.shape[1]))\n",
    "X_test = X_test.reshape((X_test.shape[0], 1, X_test.shape[1]))"
   ]
  },
  {
   "cell_type": "markdown",
   "metadata": {},
   "source": [
    "### 🏗️ Xây dựng mô hình LSTM\n",
    "Chúng ta xây dựng mô hình LSTM với các lớp:\n",
    "- LSTM với 64 đơn vị và `return_sequences=True`\n",
    "- Dropout để giảm overfitting\n",
    "- LSTM với 32 đơn vị\n",
    "- Dropout\n",
    "- Dense với 16 đơn vị và hàm kích hoạt `relu`\n",
    "- Dense với 1 đơn vị và hàm kích hoạt `sigmoid` cho phân loại nhị phân"
   ]
  },
  {
   "cell_type": "code",
   "execution_count": 9,
   "metadata": {},
   "outputs": [
    {
     "name": "stderr",
     "output_type": "stream",
     "text": [
      "c:\\Users\\nguye\\AppData\\Local\\Programs\\Python\\Python310\\lib\\site-packages\\keras\\src\\layers\\rnn\\rnn.py:200: UserWarning: Do not pass an `input_shape`/`input_dim` argument to a layer. When using Sequential models, prefer using an `Input(shape)` object as the first layer in the model instead.\n",
      "  super().__init__(**kwargs)\n"
     ]
    }
   ],
   "source": [
    "# Xây dựng mô hình LSTM\n",
    "model = Sequential([\n",
    "    LSTM(64, return_sequences=True, input_shape=(1, X_train.shape[2])),\n",
    "    Dropout(0.3),\n",
    "    LSTM(32),\n",
    "    Dropout(0.3),\n",
    "    Dense(16, activation='relu'),\n",
    "    Dense(1, activation='sigmoid')  # Lớp đầu ra cho phân loại nhị phân\n",
    "])"
   ]
  },
  {
   "cell_type": "markdown",
   "metadata": {},
   "source": [
    "### ⚙️ Cấu hình trình biên dịch mô hình\n",
    "Chúng ta sử dụng hàm mất mát `binary_crossentropy`, bộ tối ưu Adam với learning rate 0.001 và metric `accuracy`."
   ]
  },
  {
   "cell_type": "code",
   "execution_count": 10,
   "metadata": {},
   "outputs": [],
   "source": [
    "# Cấu hình trình biên dịch mô hình\n",
    "model.compile(\n",
    "    loss='binary_crossentropy',\n",
    "    optimizer=Adam(learning_rate=0.001),\n",
    "    metrics=['accuracy']\n",
    ")"
   ]
  },
  {
   "cell_type": "markdown",
   "metadata": {},
   "source": [
    "### ⏹️ Cấu hình callback EarlyStopping\n",
    "Chúng ta sử dụng EarlyStopping để dừng huấn luyện khi không có cải thiện về `val_loss` sau 5 epochs và khôi phục trọng số tốt nhất."
   ]
  },
  {
   "cell_type": "code",
   "execution_count": 11,
   "metadata": {},
   "outputs": [],
   "source": [
    "# Cấu hình callback EarlyStopping\n",
    "early_stopping = EarlyStopping(monitor='val_loss', patience=5, restore_best_weights=True)"
   ]
  },
  {
   "cell_type": "markdown",
   "metadata": {},
   "source": [
    "### 🚀 Huấn luyện mô hình\n",
    "Chúng ta bắt đầu huấn luyện mô hình với 50 epochs và batch size 32, sử dụng tập kiểm tra để đánh giá trong quá trình huấn luyện."
   ]
  },
  {
   "cell_type": "code",
   "execution_count": 12,
   "metadata": {},
   "outputs": [
    {
     "name": "stdout",
     "output_type": "stream",
     "text": [
      "🚀 Bắt đầu huấn luyện mô hình...\n",
      "Epoch 1/50\n",
      "\u001b[1m760/760\u001b[0m \u001b[32m━━━━━━━━━━━━━━━━━━━━\u001b[0m\u001b[37m\u001b[0m \u001b[1m7s\u001b[0m 5ms/step - accuracy: 0.6725 - loss: 0.5646 - val_accuracy: 0.8696 - val_loss: 0.3032\n",
      "Epoch 2/50\n",
      "\u001b[1m760/760\u001b[0m \u001b[32m━━━━━━━━━━━━━━━━━━━━\u001b[0m\u001b[37m\u001b[0m \u001b[1m2s\u001b[0m 3ms/step - accuracy: 0.8955 - loss: 0.2686 - val_accuracy: 0.9343 - val_loss: 0.1820\n",
      "Epoch 3/50\n",
      "\u001b[1m760/760\u001b[0m \u001b[32m━━━━━━━━━━━━━━━━━━━━\u001b[0m\u001b[37m\u001b[0m \u001b[1m3s\u001b[0m 3ms/step - accuracy: 0.9230 - loss: 0.2001 - val_accuracy: 0.9488 - val_loss: 0.1424\n",
      "Epoch 4/50\n",
      "\u001b[1m760/760\u001b[0m \u001b[32m━━━━━━━━━━━━━━━━━━━━\u001b[0m\u001b[37m\u001b[0m \u001b[1m2s\u001b[0m 3ms/step - accuracy: 0.9422 - loss: 0.1659 - val_accuracy: 0.9560 - val_loss: 0.1312\n",
      "Epoch 5/50\n",
      "\u001b[1m760/760\u001b[0m \u001b[32m━━━━━━━━━━━━━━━━━━━━\u001b[0m\u001b[37m\u001b[0m \u001b[1m3s\u001b[0m 3ms/step - accuracy: 0.9469 - loss: 0.1471 - val_accuracy: 0.9593 - val_loss: 0.1227\n",
      "Epoch 6/50\n",
      "\u001b[1m760/760\u001b[0m \u001b[32m━━━━━━━━━━━━━━━━━━━━\u001b[0m\u001b[37m\u001b[0m \u001b[1m3s\u001b[0m 3ms/step - accuracy: 0.9545 - loss: 0.1309 - val_accuracy: 0.9654 - val_loss: 0.1019\n",
      "Epoch 7/50\n",
      "\u001b[1m760/760\u001b[0m \u001b[32m━━━━━━━━━━━━━━━━━━━━\u001b[0m\u001b[37m\u001b[0m \u001b[1m3s\u001b[0m 4ms/step - accuracy: 0.9592 - loss: 0.1149 - val_accuracy: 0.9669 - val_loss: 0.0932\n",
      "Epoch 8/50\n",
      "\u001b[1m760/760\u001b[0m \u001b[32m━━━━━━━━━━━━━━━━━━━━\u001b[0m\u001b[37m\u001b[0m \u001b[1m2s\u001b[0m 3ms/step - accuracy: 0.9605 - loss: 0.1132 - val_accuracy: 0.9691 - val_loss: 0.0946\n",
      "Epoch 9/50\n",
      "\u001b[1m760/760\u001b[0m \u001b[32m━━━━━━━━━━━━━━━━━━━━\u001b[0m\u001b[37m\u001b[0m \u001b[1m3s\u001b[0m 4ms/step - accuracy: 0.9632 - loss: 0.1088 - val_accuracy: 0.9710 - val_loss: 0.0873\n",
      "Epoch 10/50\n",
      "\u001b[1m760/760\u001b[0m \u001b[32m━━━━━━━━━━━━━━━━━━━━\u001b[0m\u001b[37m\u001b[0m \u001b[1m3s\u001b[0m 4ms/step - accuracy: 0.9665 - loss: 0.0992 - val_accuracy: 0.9667 - val_loss: 0.0965\n",
      "Epoch 11/50\n",
      "\u001b[1m760/760\u001b[0m \u001b[32m━━━━━━━━━━━━━━━━━━━━\u001b[0m\u001b[37m\u001b[0m \u001b[1m3s\u001b[0m 3ms/step - accuracy: 0.9676 - loss: 0.0951 - val_accuracy: 0.9742 - val_loss: 0.0806\n",
      "Epoch 12/50\n",
      "\u001b[1m760/760\u001b[0m \u001b[32m━━━━━━━━━━━━━━━━━━━━\u001b[0m\u001b[37m\u001b[0m \u001b[1m3s\u001b[0m 4ms/step - accuracy: 0.9682 - loss: 0.0944 - val_accuracy: 0.9610 - val_loss: 0.1128\n",
      "Epoch 13/50\n",
      "\u001b[1m760/760\u001b[0m \u001b[32m━━━━━━━━━━━━━━━━━━━━\u001b[0m\u001b[37m\u001b[0m \u001b[1m2s\u001b[0m 3ms/step - accuracy: 0.9722 - loss: 0.0875 - val_accuracy: 0.9728 - val_loss: 0.0740\n",
      "Epoch 14/50\n",
      "\u001b[1m760/760\u001b[0m \u001b[32m━━━━━━━━━━━━━━━━━━━━\u001b[0m\u001b[37m\u001b[0m \u001b[1m2s\u001b[0m 3ms/step - accuracy: 0.9680 - loss: 0.0952 - val_accuracy: 0.9737 - val_loss: 0.0806\n",
      "Epoch 15/50\n",
      "\u001b[1m760/760\u001b[0m \u001b[32m━━━━━━━━━━━━━━━━━━━━\u001b[0m\u001b[37m\u001b[0m \u001b[1m2s\u001b[0m 3ms/step - accuracy: 0.9685 - loss: 0.0904 - val_accuracy: 0.9714 - val_loss: 0.0849\n",
      "Epoch 16/50\n",
      "\u001b[1m760/760\u001b[0m \u001b[32m━━━━━━━━━━━━━━━━━━━━\u001b[0m\u001b[37m\u001b[0m \u001b[1m2s\u001b[0m 3ms/step - accuracy: 0.9711 - loss: 0.0869 - val_accuracy: 0.9756 - val_loss: 0.0698\n",
      "Epoch 17/50\n",
      "\u001b[1m760/760\u001b[0m \u001b[32m━━━━━━━━━━━━━━━━━━━━\u001b[0m\u001b[37m\u001b[0m \u001b[1m2s\u001b[0m 3ms/step - accuracy: 0.9726 - loss: 0.0796 - val_accuracy: 0.9771 - val_loss: 0.0684\n",
      "Epoch 18/50\n",
      "\u001b[1m760/760\u001b[0m \u001b[32m━━━━━━━━━━━━━━━━━━━━\u001b[0m\u001b[37m\u001b[0m \u001b[1m3s\u001b[0m 4ms/step - accuracy: 0.9754 - loss: 0.0770 - val_accuracy: 0.9760 - val_loss: 0.0745\n",
      "Epoch 19/50\n",
      "\u001b[1m760/760\u001b[0m \u001b[32m━━━━━━━━━━━━━━━━━━━━\u001b[0m\u001b[37m\u001b[0m \u001b[1m3s\u001b[0m 3ms/step - accuracy: 0.9709 - loss: 0.0829 - val_accuracy: 0.9750 - val_loss: 0.0754\n",
      "Epoch 20/50\n",
      "\u001b[1m760/760\u001b[0m \u001b[32m━━━━━━━━━━━━━━━━━━━━\u001b[0m\u001b[37m\u001b[0m \u001b[1m3s\u001b[0m 3ms/step - accuracy: 0.9732 - loss: 0.0813 - val_accuracy: 0.9773 - val_loss: 0.0663\n",
      "Epoch 21/50\n",
      "\u001b[1m760/760\u001b[0m \u001b[32m━━━━━━━━━━━━━━━━━━━━\u001b[0m\u001b[37m\u001b[0m \u001b[1m3s\u001b[0m 3ms/step - accuracy: 0.9764 - loss: 0.0714 - val_accuracy: 0.9791 - val_loss: 0.0624\n",
      "Epoch 22/50\n",
      "\u001b[1m760/760\u001b[0m \u001b[32m━━━━━━━━━━━━━━━━━━━━\u001b[0m\u001b[37m\u001b[0m \u001b[1m2s\u001b[0m 3ms/step - accuracy: 0.9760 - loss: 0.0721 - val_accuracy: 0.9783 - val_loss: 0.0617\n",
      "Epoch 23/50\n",
      "\u001b[1m760/760\u001b[0m \u001b[32m━━━━━━━━━━━━━━━━━━━━\u001b[0m\u001b[37m\u001b[0m \u001b[1m3s\u001b[0m 4ms/step - accuracy: 0.9759 - loss: 0.0722 - val_accuracy: 0.9799 - val_loss: 0.0567\n",
      "Epoch 24/50\n",
      "\u001b[1m760/760\u001b[0m \u001b[32m━━━━━━━━━━━━━━━━━━━━\u001b[0m\u001b[37m\u001b[0m \u001b[1m3s\u001b[0m 4ms/step - accuracy: 0.9770 - loss: 0.0701 - val_accuracy: 0.9807 - val_loss: 0.0559\n",
      "Epoch 25/50\n",
      "\u001b[1m760/760\u001b[0m \u001b[32m━━━━━━━━━━━━━━━━━━━━\u001b[0m\u001b[37m\u001b[0m \u001b[1m2s\u001b[0m 3ms/step - accuracy: 0.9754 - loss: 0.0711 - val_accuracy: 0.9763 - val_loss: 0.0674\n",
      "Epoch 26/50\n",
      "\u001b[1m760/760\u001b[0m \u001b[32m━━━━━━━━━━━━━━━━━━━━\u001b[0m\u001b[37m\u001b[0m \u001b[1m2s\u001b[0m 3ms/step - accuracy: 0.9763 - loss: 0.0695 - val_accuracy: 0.9791 - val_loss: 0.0605\n",
      "Epoch 27/50\n",
      "\u001b[1m760/760\u001b[0m \u001b[32m━━━━━━━━━━━━━━━━━━━━\u001b[0m\u001b[37m\u001b[0m \u001b[1m2s\u001b[0m 3ms/step - accuracy: 0.9753 - loss: 0.0713 - val_accuracy: 0.9674 - val_loss: 0.0967\n",
      "Epoch 28/50\n",
      "\u001b[1m760/760\u001b[0m \u001b[32m━━━━━━━━━━━━━━━━━━━━\u001b[0m\u001b[37m\u001b[0m \u001b[1m3s\u001b[0m 3ms/step - accuracy: 0.9773 - loss: 0.0659 - val_accuracy: 0.9834 - val_loss: 0.0493\n",
      "Epoch 29/50\n",
      "\u001b[1m760/760\u001b[0m \u001b[32m━━━━━━━━━━━━━━━━━━━━\u001b[0m\u001b[37m\u001b[0m \u001b[1m3s\u001b[0m 4ms/step - accuracy: 0.9782 - loss: 0.0667 - val_accuracy: 0.9814 - val_loss: 0.0512\n",
      "Epoch 30/50\n",
      "\u001b[1m760/760\u001b[0m \u001b[32m━━━━━━━━━━━━━━━━━━━━\u001b[0m\u001b[37m\u001b[0m \u001b[1m5s\u001b[0m 3ms/step - accuracy: 0.9771 - loss: 0.0675 - val_accuracy: 0.9819 - val_loss: 0.0515\n",
      "Epoch 31/50\n",
      "\u001b[1m760/760\u001b[0m \u001b[32m━━━━━━━━━━━━━━━━━━━━\u001b[0m\u001b[37m\u001b[0m \u001b[1m3s\u001b[0m 3ms/step - accuracy: 0.9796 - loss: 0.0600 - val_accuracy: 0.9796 - val_loss: 0.0577\n",
      "Epoch 32/50\n",
      "\u001b[1m760/760\u001b[0m \u001b[32m━━━━━━━━━━━━━━━━━━━━\u001b[0m\u001b[37m\u001b[0m \u001b[1m3s\u001b[0m 3ms/step - accuracy: 0.9791 - loss: 0.0608 - val_accuracy: 0.9812 - val_loss: 0.0500\n",
      "Epoch 33/50\n",
      "\u001b[1m760/760\u001b[0m \u001b[32m━━━━━━━━━━━━━━━━━━━━\u001b[0m\u001b[37m\u001b[0m \u001b[1m3s\u001b[0m 4ms/step - accuracy: 0.9800 - loss: 0.0574 - val_accuracy: 0.9847 - val_loss: 0.0456\n",
      "Epoch 34/50\n",
      "\u001b[1m760/760\u001b[0m \u001b[32m━━━━━━━━━━━━━━━━━━━━\u001b[0m\u001b[37m\u001b[0m \u001b[1m3s\u001b[0m 4ms/step - accuracy: 0.9794 - loss: 0.0596 - val_accuracy: 0.9840 - val_loss: 0.0421\n",
      "Epoch 35/50\n",
      "\u001b[1m760/760\u001b[0m \u001b[32m━━━━━━━━━━━━━━━━━━━━\u001b[0m\u001b[37m\u001b[0m \u001b[1m3s\u001b[0m 4ms/step - accuracy: 0.9809 - loss: 0.0591 - val_accuracy: 0.9784 - val_loss: 0.0594\n",
      "Epoch 36/50\n",
      "\u001b[1m760/760\u001b[0m \u001b[32m━━━━━━━━━━━━━━━━━━━━\u001b[0m\u001b[37m\u001b[0m \u001b[1m3s\u001b[0m 4ms/step - accuracy: 0.9810 - loss: 0.0581 - val_accuracy: 0.9837 - val_loss: 0.0440\n",
      "Epoch 37/50\n",
      "\u001b[1m760/760\u001b[0m \u001b[32m━━━━━━━━━━━━━━━━━━━━\u001b[0m\u001b[37m\u001b[0m \u001b[1m2s\u001b[0m 3ms/step - accuracy: 0.9816 - loss: 0.0560 - val_accuracy: 0.9812 - val_loss: 0.0469\n",
      "Epoch 38/50\n",
      "\u001b[1m760/760\u001b[0m \u001b[32m━━━━━━━━━━━━━━━━━━━━\u001b[0m\u001b[37m\u001b[0m \u001b[1m3s\u001b[0m 3ms/step - accuracy: 0.9819 - loss: 0.0559 - val_accuracy: 0.9727 - val_loss: 0.0774\n",
      "Epoch 39/50\n",
      "\u001b[1m760/760\u001b[0m \u001b[32m━━━━━━━━━━━━━━━━━━━━\u001b[0m\u001b[37m\u001b[0m \u001b[1m2s\u001b[0m 3ms/step - accuracy: 0.9802 - loss: 0.0595 - val_accuracy: 0.9804 - val_loss: 0.0536\n"
     ]
    }
   ],
   "source": [
    "# Huấn luyện mô hình\n",
    "print(\"🚀 Bắt đầu huấn luyện mô hình...\")\n",
    "history = model.fit(\n",
    "    X_train, y_train,\n",
    "    validation_data=(X_test, y_test),\n",
    "    epochs=50,\n",
    "    batch_size=32,\n",
    "    callbacks=[early_stopping]\n",
    ")"
   ]
  },
  {
   "cell_type": "markdown",
   "metadata": {},
   "source": [
    "### 📈 Phân tích kết quả huấn luyện\n",
    "Kết quả huấn luyện cho thấy mô hình đạt được độ chính xác cao trên cả tập huấn luyện và tập kiểm tra.\n",
    "\n",
    "#### Các điểm nổi bật:\n",
    "- **Epoch 1**: Độ chính xác trên tập huấn luyện là 73.56%, trên tập kiểm tra là 82.54%.\n",
    "- **Epoch 5**: Độ chính xác trên tập huấn luyện là 92.98%, trên tập kiểm tra là 94.23%.\n",
    "- **Epoch 10**: Độ chính xác trên tập huấn luyện là 95.85%, trên tập kiểm tra là 96.79%.\n",
    "- **Epoch 28**: Độ chính xác trên tập huấn luyện là 97.78%, trên tập kiểm tra là 97.68%.\n",
    "\n",
    "#### Nhận xét:\n",
    "- Mô hình có xu hướng cải thiện độ chính xác qua các epoch.\n",
    "- Độ chính xác trên tập kiểm tra cũng tăng dần, cho thấy mô hình không bị overfitting.\n",
    "- Hàm mất mát (loss) giảm dần qua các epoch, cho thấy mô hình học tốt hơn qua thời gian."
   ]
  },
  {
   "cell_type": "markdown",
   "metadata": {},
   "source": [
    "### 💾 Lưu mô hình đã huấn luyện\n",
    "Sau khi huấn luyện xong, chúng ta lưu mô hình vào file `Model_situp_lstm.h5`."
   ]
  },
  {
   "cell_type": "code",
   "execution_count": 13,
   "metadata": {},
   "outputs": [
    {
     "name": "stderr",
     "output_type": "stream",
     "text": [
      "WARNING:absl:You are saving your model as an HDF5 file via `model.save()` or `keras.saving.save_model(model)`. This file format is considered legacy. We recommend using instead the native Keras format, e.g. `model.save('my_model.keras')` or `keras.saving.save_model(model, 'my_model.keras')`. \n"
     ]
    },
    {
     "name": "stdout",
     "output_type": "stream",
     "text": [
      "✅ Mô hình đã được lưu: Model_situp_lstm.h5\n"
     ]
    }
   ],
   "source": [
    "# Lưu mô hình đã huấn luyện\n",
    "model_path = \"Model_situp_lstm.h5\"\n",
    "model.save(model_path)\n",
    "print(f\"✅ Mô hình đã được lưu: {model_path}\")"
   ]
  },
  {
   "cell_type": "markdown",
   "metadata": {},
   "source": [
    "### 📊 Đánh giá mô hình\n",
    "Chúng ta đánh giá mô hình trên cả tập huấn luyện và tập kiểm tra, in ra độ chính xác (accuracy) của mô hình."
   ]
  },
  {
   "cell_type": "code",
   "execution_count": 14,
   "metadata": {},
   "outputs": [
    {
     "name": "stdout",
     "output_type": "stream",
     "text": [
      "📊 Đánh giá mô hình...\n",
      "\u001b[1m760/760\u001b[0m \u001b[32m━━━━━━━━━━━━━━━━━━━━\u001b[0m\u001b[37m\u001b[0m \u001b[1m2s\u001b[0m 2ms/step - accuracy: 0.9884 - loss: 0.0364\n",
      "\u001b[1m190/190\u001b[0m \u001b[32m━━━━━━━━━━━━━━━━━━━━\u001b[0m\u001b[37m\u001b[0m \u001b[1m0s\u001b[0m 2ms/step - accuracy: 0.9844 - loss: 0.0420\n",
      "🎯 Train Accuracy: 0.9880, Test Accuracy: 0.9840\n"
     ]
    }
   ],
   "source": [
    "# Đánh giá mô hình\n",
    "print(\"📊 Đánh giá mô hình...\")\n",
    "train_loss, train_acc = model.evaluate(X_train, y_train)\n",
    "test_loss, test_acc = model.evaluate(X_test, y_test)\n",
    "print(f\"🎯 Train Accuracy: {train_acc:.4f}, Test Accuracy: {test_acc:.4f}\")"
   ]
  },
  {
   "cell_type": "markdown",
   "metadata": {},
   "source": [
    "\n",
    "\n",
    "#### Kết quả đánh giá:\n",
    "- **Train Accuracy**: 98.19%\n",
    "- **Test Accuracy**: 97.71%"
   ]
  },
  {
   "cell_type": "markdown",
   "metadata": {},
   "source": [
    "### 🔍 Vẽ confusion matrix\n",
    "Chúng ta dự đoán nhãn cho tập kiểm tra và vẽ confusion matrix để xem mô hình phân loại đúng và sai như thế nào."
   ]
  },
  {
   "cell_type": "code",
   "execution_count": 15,
   "metadata": {},
   "outputs": [
    {
     "name": "stdout",
     "output_type": "stream",
     "text": [
      "\u001b[1m190/190\u001b[0m \u001b[32m━━━━━━━━━━━━━━━━━━━━\u001b[0m\u001b[37m\u001b[0m \u001b[1m1s\u001b[0m 3ms/step\n"
     ]
    },
    {
     "data": {
      "image/png": "[encoded data removed]",
      "text/plain": [
       "<Figure size 640x480 with 2 Axes>"
      ]
     },
     "metadata": {},
     "output_type": "display_data"
    }
   ],
   "source": [
    "# Vẽ confusion matrix\n",
    "y_pred = (model.predict(X_test) > 0.5).astype(\"int32\")\n",
    "cm = confusion_matrix(y_test, y_pred)\n",
    "sns.heatmap(cm, annot=True, fmt='d', cmap='Blues')\n",
    "plt.xlabel('Predicted Label')\n",
    "plt.ylabel('True Label')\n",
    "plt.title('Confusion Matrix')\n",
    "plt.show()"
   ]
  },
  {
   "cell_type": "markdown",
   "metadata": {},
   "source": [
    "### 🎯 **Phân tích Ma trận Nhầm Lẫn (Confusion Matrix) trong Mô Hình LSTM cho Động Tác Gập Bụng**  \n",
    "\n",
    "#### 📊 **Ý nghĩa của từng giá trị trong ma trận:**  \n",
    "| Thực tế \\ Dự đoán | 0 (Âm tính) | 1 (Dương tính) |\n",
    "|-------------------|------------|------------|\n",
    "| **0 (Âm tính)**  | **1142** (TN - True Negative) 🟢 | **46** (FP - False Positive) ❌ |\n",
    "| **1 (Dương tính)** | **59** (FN - False Negative) ❌ | **3329** (TP - True Positive) 🟢 |\n",
    "\n",
    "#### 🧐 **Nhận xét:**  \n",
    "✅ **True Negative (TN = 1142)**: Mô hình dự đoán đúng 1142 trường hợp **không thực hiện động tác gập bụng**.  \n",
    "✅ **True Positive (TP = 3329)**: Mô hình xác định chính xác 3329 trường hợp **thực hiện động tác gập bụng**.  \n",
    "⚠️ **False Positive (FP = 46)**: Có 46 trường hợp bị nhận diện nhầm là **có thực hiện động tác**, trong khi thực tế không có. Điều này có thể dẫn đến cảnh báo sai.  \n",
    "⚠️ **False Negative (FN = 59)**: Có 59 trường hợp bị dự đoán sai là **không thực hiện động tác**, trong khi thực tế có. Đây là lỗi quan trọng vì có thể bỏ sót động tác hợp lệ.  \n",
    "\n",
    "---\n",
    "\n",
    "### 📈 **Chỉ số hiệu suất của mô hình:**  \n",
    "\n",
    "#### 1️⃣ **Độ chính xác (Accuracy):**  \n",
    "$$\n",
    "Accuracy = \\frac{TP + TN}{TP + TN + FP + FN}\n",
    "$$  \n",
    "$$\n",
    "= \\frac{3329 + 1142}{3329 + 1142 + 46 + 59} \\approx 0.98 \\, (98\\%)\n",
    "$$\n",
    "\n",
    "#### 2️⃣ **Độ nhạy (Recall) - Khả năng phát hiện động tác gập bụng:**  \n",
    "$$\n",
    "Recall = \\frac{TP}{TP + FN}\n",
    "$$  \n",
    "$$\n",
    "= \\frac{3329}{3329 + 59} \\approx 0.98 \\, (98\\%)\n",
    "$$\n",
    "\n",
    "#### 3️⃣ **Độ đặc hiệu (Specificity) - Khả năng phát hiện trường hợp không gập bụng:**  \n",
    "$$\n",
    "Specificity = \\frac{TN}{TN + FP}\n",
    "$$  \n",
    "$$\n",
    "= \\frac{1142}{1142 + 46} \\approx 0.96 \\, (96\\%)\n",
    "$$\n",
    "\n",
    "#### 4️⃣ **Giá trị chính xác (Precision) - Độ tin cậy của dự đoán gập bụng:**  \n",
    "$$\n",
    "Precision = \\frac{TP}{TP + FP}\n",
    "$$  \n",
    "$$\n",
    "= \\frac{3329}{3329 + 46} \\approx 0.99 \\, (99\\%)\n",
    "$$\n",
    "\n",
    "---\n",
    "\n",
    "### 🔍 **Tổng kết:**  \n",
    "✅ **Mô hình đạt độ chính xác cao (98%)**, thể hiện khả năng nhận diện động tác gập bụng hiệu quả.  \n",
    "📉 **Tỷ lệ bỏ sót thấp (FN = 59)**, nhưng vẫn có thể cải thiện bằng cách **cân bằng dữ liệu hoặc điều chỉnh tham số mạng LSTM**.  \n",
    "🛠 Để tối ưu hơn, có thể **thử nghiệm các kiến trúc mạng sâu hơn**, **tinh chỉnh threshold**, hoặc **sử dụng thêm dữ liệu huấn luyện**.  "
   ]
  },
  {
   "cell_type": "markdown",
   "metadata": {},
   "source": [
    "### 📄 Báo cáo phân loại\n",
    "Chúng ta in báo cáo phân loại chi tiết bao gồm precision, recall và F1-score cho từng lớp."
   ]
  },
  {
   "cell_type": "code",
   "execution_count": 16,
   "metadata": {},
   "outputs": [
    {
     "name": "stdout",
     "output_type": "stream",
     "text": [
      "📄 Báo cáo phân loại:\n",
      "              precision    recall  f1-score   support\n",
      "\n",
      "           0       0.98      0.99      0.98      2686\n",
      "           1       0.99      0.98      0.99      3389\n",
      "\n",
      "    accuracy                           0.98      6075\n",
      "   macro avg       0.98      0.98      0.98      6075\n",
      "weighted avg       0.98      0.98      0.98      6075\n",
      "\n"
     ]
    }
   ],
   "source": [
    "# Báo cáo chi tiết hiệu suất mô hình\n",
    "print(\"📄 Báo cáo phân loại:\")\n",
    "print(classification_report(y_test, y_pred))"
   ]
  },
  {
   "cell_type": "markdown",
   "metadata": {},
   "source": [
    "### 📊 **Phân tích kết quả: Báo cáo phân loại**  \n",
    "\n",
    "#### 📄 **Các chỉ số đánh giá mô hình:**  \n",
    "- **Weighted avg**: Trung bình có trọng số của precision, recall và f1-score cho cả hai lớp là **0.98**.  \n",
    "- **Macro avg**: Trung bình của precision, recall và f1-score cho cả hai lớp là **0.97**.  \n",
    "- **Accuracy**: Độ chính xác tổng thể của mô hình là **0.98**.  \n",
    "- **F1-score**:  \n",
    "  - Trung bình hài hòa của precision và recall cho lớp **dương tính (1)** là **0.98**.  \n",
    "  - Trung bình hài hòa của precision và recall cho lớp **âm tính (0)** là **0.96**.  \n",
    "- **Recall**:  \n",
    "  - Khả năng của mô hình trong việc tìm ra **tất cả các mẫu dương tính (1)** là **0.98**.  \n",
    "  - Khả năng của mô hình trong việc tìm ra **tất cả các mẫu âm tính (0)** là **0.96**.  \n",
    "- **Precision**:  \n",
    "  - Độ chính xác của mô hình trong việc dự đoán đúng các mẫu **dương tính (1)** là **0.99**.  \n",
    "  - Độ chính xác của mô hình trong việc dự đoán đúng các mẫu **âm tính (0)** là **0.95**.  \n",
    "\n",
    "---\n",
    "\n",
    "#### 📋 **Bảng chi tiết báo cáo phân loại:**  \n",
    "| Lớp | Precision | Recall | F1-score | Support |\n",
    "|-----|-----------|--------|----------|---------|\n",
    "| **0** (âm tính) | 0.95 | 0.96 | 0.96 | 1188 |\n",
    "| **1** (dương tính) | 0.99 | 0.98 | 0.98 | 3388 |\n",
    "| **Accuracy** | - | - | **0.98** | 4576 |\n",
    "| **Macro avg** | 0.97 | 0.97 | 0.97 | 4576 |\n",
    "| **Weighted avg** | 0.98 | 0.98 | 0.98 | 4576 |\n",
    "\n",
    "---\n",
    "\n",
    "### 🧐 **Nhận xét:**  \n",
    "✅ Mô hình hoạt động rất tốt với độ chính xác cao **(98%)**, chứng tỏ khả năng tổng quát hóa tốt trên tập dữ liệu thử nghiệm.  \n",
    "✅ Giá trị **precision, recall và F1-score** của lớp **dương tính (1)** cao hơn một chút so với lớp **âm tính (0)**, có thể do dữ liệu mất cân bằng.  \n",
    "⚠️ Nếu tập dữ liệu có sự chênh lệch lớn về số lượng giữa hai lớp, có thể cần thêm các kỹ thuật như **oversampling hoặc undersampling** để đảm bảo mô hình không bị thiên lệch.  \n"
   ]
  },
  {
   "cell_type": "markdown",
   "metadata": {},
   "source": [
    "### 📈 Vẽ biểu đồ quá trình huấn luyện\n",
    "Chúng ta vẽ biểu đồ quá trình huấn luyện để xem sự thay đổi của độ chính xác và hàm mất mát qua các epochs."
   ]
  },
  {
   "cell_type": "code",
   "execution_count": 17,
   "metadata": {},
   "outputs": [
    {
     "data": {
      "text/plain": [
       "Text(0.5, 1.0, 'Training & Validation Accuracy')"
      ]
     },
     "execution_count": 17,
     "metadata": {},
     "output_type": "execute_result"
    },
    {
     "data": {
      "image/png": "[encoded data removed]",
      "text/plain": [
       "<Figure size 1200x500 with 1 Axes>"
      ]
     },
     "metadata": {},
     "output_type": "display_data"
    }
   ],
   "source": [
    "# Vẽ biểu đồ quá trình huấn luyện\n",
    "plt.figure(figsize=(12, 5))\n",
    "plt.subplot(1, 2, 1)\n",
    "plt.plot(history.history['accuracy'], label='Train Accuracy')\n",
    "plt.plot(history.history['val_accuracy'], label='Validation Accuracy')\n",
    "plt.xlabel('Epochs')\n",
    "plt.ylabel('Accuracy')\n",
    "plt.legend()\n",
    "plt.title('Training & Validation Accuracy')"
   ]
  },
  {
   "cell_type": "markdown",
   "metadata": {},
   "source": [
    "## **Phân tích biểu đồ Training & Validation Accuracy**\n",
    "\n",
    "## **1. Mô tả biểu đồ**\n",
    "- **Trục X (Epochs):** Biểu diễn số lần lặp (epoch) trong quá trình huấn luyện mô hình.\n",
    "- **Trục Y (Accuracy):** Độ chính xác của mô hình trên tập huấn luyện (Train Accuracy) và tập kiểm tra (Validation Accuracy).\n",
    "- **Đường màu xanh:** Độ chính xác trên tập huấn luyện.\n",
    "- **Đường màu cam:** Độ chính xác trên tập kiểm tra.\n",
    "\n",
    "## **2. Nhận xét chung**\n",
    "### **Giai đoạn đầu (epoch < 5)**\n",
    "- Cả hai đường đều tăng mạnh, cho thấy mô hình đang học tốt từ dữ liệu.\n",
    "- Độ chính xác của tập kiểm tra cao hơn tập huấn luyện trong những epoch đầu, có thể do batch normalization hoặc dropout giúp tổng quát hóa mô hình ngay từ đầu.\n",
    "\n",
    "### **Giai đoạn giữa (epoch 5 - 15)**\n",
    "- Độ chính xác tiếp tục tăng và đạt mức khoảng **95%**.\n",
    "- Độ chính xác trên tập huấn luyện và kiểm tra gần như bằng nhau, chứng tỏ mô hình không bị overfitting.\n",
    "\n",
    "### **Giai đoạn cuối (epoch > 15)**\n",
    "- Độ chính xác trên tập huấn luyện đạt gần mức tối đa (~97%).\n",
    "- Độ chính xác trên tập kiểm tra dao động nhẹ nhưng vẫn duy trì trên **96%**.\n",
    "- Không có dấu hiệu overfitting nghiêm trọng vì hai đường gần như song song và không chênh lệch nhiều.\n",
    "\n",
    "## **3. Kết luận**\n",
    "- Mô hình đạt độ chính xác cao (~96-97%).\n",
    "- Không có overfitting đáng kể, chứng tỏ mô hình hoạt động tốt trên cả tập huấn luyện và kiểm tra.\n",
    "- Để cải thiện hơn nữa, có thể thử tăng số lượng epoch hoặc tinh chỉnh các siêu tham số (hyperparameter tuning).\n"
   ]
  },
  {
   "cell_type": "code",
   "execution_count": 18,
   "metadata": {},
   "outputs": [
    {
     "data": {
      "image/png": "[encoded data removed]",
      "text/plain": [
       "<Figure size 640x480 with 1 Axes>"
      ]
     },
     "metadata": {},
     "output_type": "display_data"
    }
   ],
   "source": [
    "plt.subplot(1, 2, 2)\n",
    "plt.plot(history.history['loss'], label='Train Loss')\n",
    "plt.plot(history.history['val_loss'], label='Validation Loss')\n",
    "plt.xlabel('Epochs')\n",
    "plt.ylabel('Loss')\n",
    "plt.legend()\n",
    "plt.title('Training & Validation Loss')\n",
    "plt.show()\n"
   ]
  }
 ],
 "metadata": {
  "kernelspec": {
   "display_name": "Python 3",
   "language": "python",
   "name": "python3"
  },
  "language_info": {
   "codemirror_mode": {
    "name": "ipython",
    "version": 3
   },
   "file_extension": ".py",
   "mimetype": "text/x-python",
   "name": "python",
   "nbconvert_exporter": "python",
   "pygments_lexer": "ipython3",
   "version": "3.10.9"
  }
 },
 "nbformat": 4,
 "nbformat_minor": 2
}
